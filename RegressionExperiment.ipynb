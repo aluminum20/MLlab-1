{
 "cells": [
  {
   "cell_type": "code",
   "execution_count": 8,
   "metadata": {},
   "outputs": [
    {
     "data": {
      "image/png": "[encoded data removed]",
      "text/plain": [
       "<matplotlib.figure.Figure at 0x988f7b8>"
      ]
     },
     "metadata": {},
     "output_type": "display_data"
    }
   ],
   "source": [
    "# -*- coding: UTF-8 -*-\n",
    "from sklearn.datasets import load_svmlight_file\n",
    "from numpy import *\n",
    "import numpy as np\n",
    "from sklearn.model_selection import train_test_split\n",
    "from math import ceil\n",
    "import matplotlib.pyplot as plt\n",
    "\n",
    "def get_data(s):\n",
    "    data = load_svmlight_file(s)\n",
    "    return data[0], data[1]\n",
    "X, Y = get_data(\"D:\\\\data1.txt\")\n",
    "\n",
    "data_num=506\n",
    "t_size=0.33\n",
    "validation_num=int(ceil(data_num*t_size))\n",
    "train_num=data_num-validation_num\n",
    "\n",
    "X_train, X_validation, Y_train, Y_validation = train_test_split(X, Y,test_size=t_size, random_state=50)\n",
    "Xt=mat(X_train.toarray())\n",
    "Xv=mat(X_validation.toarray())\n",
    "#<class 'numpy.matrixlib.defmatrix.matrix'>\n",
    "Xt = np.column_stack((Xt,[np.float64(1) for x in range(train_num)]))\n",
    "Xv = np.column_stack((Xv,[np.float64(1) for x in range(validation_num)]))\n",
    "\n",
    "Yt=mat(Y_train).T\n",
    "Yv=mat(Y_validation).T\n",
    "\n",
    "w=mat([np.float(10)for i in range(14)]).T\n",
    "\n",
    "learningRate=0.0001#学习率\n",
    "times=200\n",
    "lossT=[]\n",
    "lossV=[]\n",
    "for i in range(0,times):\n",
    "    LT=np.float(((Xt*w-Yt).T)*(Xt*w-Yt))\n",
    "    LV=np.float(((Xv*w-Yv).T)*(Xv*w-Yv))\n",
    "    w+=-2*learningRate*(Xt.T)*(Xt*w-Yt)\n",
    "    lossT.append(LT/train_num)\n",
    "    lossV.append(LV/validation_num)\n",
    "\n",
    "x=np.arange(0,times)\n",
    "plt.plot(x,lossT,label=\"Train\")\n",
    "plt.plot(x,lossV,label=\"Validation\")\n",
    "plt.title(u\"Loss\")\n",
    "plt.legend()#Places a legend on the axes\n",
    "plt.xlabel(u\"Time\")\n",
    "plt.ylabel(u\"Loss\")\n",
    "plt.show()"
   ]
  },
  {
   "cell_type": "code",
   "execution_count": null,
   "metadata": {
    "collapsed": true
   },
   "outputs": [],
   "source": []
  }
 ],
 "metadata": {
  "kernelspec": {
   "display_name": "Python 2",
   "language": "python",
   "name": "python2"
  },
  "language_info": {
   "codemirror_mode": {
    "name": "ipython",
    "version": 2
   },
   "file_extension": ".py",
   "mimetype": "text/x-python",
   "name": "python",
   "nbconvert_exporter": "python",
   "pygments_lexer": "ipython2",
   "version": "2.7.13"
  }
 },
 "nbformat": 4,
 "nbformat_minor": 2
}
